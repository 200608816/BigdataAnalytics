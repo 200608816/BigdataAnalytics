{
 "cells": [
  {
   "cell_type": "code",
   "execution_count": 7,
   "id": "22b7aacf-7fdb-4f7d-979e-bee8e03ef14e",
   "metadata": {
    "scrolled": true
   },
   "outputs": [
    {
     "name": "stdout",
     "output_type": "stream",
     "text": [
      "Requirement already satisfied: apscheduler in c:\\users\\dell\\downloads\\compressed\\conda\\lib\\site-packages (3.11.0)\n",
      "Requirement already satisfied: tzlocal>=3.0 in c:\\users\\dell\\downloads\\compressed\\conda\\lib\\site-packages (from apscheduler) (5.2)\n",
      "Requirement already satisfied: tzdata in c:\\users\\dell\\downloads\\compressed\\conda\\lib\\site-packages (from tzlocal>=3.0->apscheduler) (2023.3)\n",
      "Note: you may need to restart the kernel to use updated packages.\n"
     ]
    }
   ],
   "source": [
    "pip install apscheduler\n"
   ]
  },
  {
   "cell_type": "code",
   "execution_count": null,
   "id": "f27027b0-3495-418b-8b46-cc732b9c1a15",
   "metadata": {},
   "outputs": [],
   "source": [
    "from apscheduler.schedulers.background import BackgroundScheduler\n",
    "import requests\n",
    "import pandas as pd\n",
    "\n",
    "def fetch_data():\n",
    "    url = \"https://archive.ics.uci.edu/ml/machine-learning-databases/iris/iris.data\"\n",
    "    df = pd.read_csv(url, header=None)\n",
    "    df.columns = ['Sepal Length', 'Sepal Width', 'Petal Length', 'Petal Width', 'Species']\n",
    "    print(\"Data fetched and updated!\")\n",
    "    # Store the data in MongoDB or any storage\n",
    "    # e.g., df.to_csv('iris_dataset.csv', index=False)\n",
    "\n",
    "scheduler = BackgroundScheduler()\n",
    "scheduler.add_job(fetch_data, 'interval', hours=24)  # Schedule every 24 hours\n",
    "scheduler.start()\n",
    "\n",
    "# Keep the script running\n",
    "while True:\n",
    "    pass"
   ]
  }
 ],
 "metadata": {
  "kernelspec": {
   "display_name": "Python 3 (ipykernel)",
   "language": "python",
   "name": "python3"
  },
  "language_info": {
   "codemirror_mode": {
    "name": "ipython",
    "version": 3
   },
   "file_extension": ".py",
   "mimetype": "text/x-python",
   "name": "python",
   "nbconvert_exporter": "python",
   "pygments_lexer": "ipython3",
   "version": "3.12.7"
  }
 },
 "nbformat": 4,
 "nbformat_minor": 5
}
