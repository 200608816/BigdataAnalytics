{
 "cells": [
  {
   "cell_type": "code",
   "execution_count": null,
   "id": "934c22a6-4e27-4c87-904c-bf27b66d0477",
   "metadata": {},
   "outputs": [],
   "source": [
    "import pandas as pd\n",
    "\n",
    "# URL of the iris dataset\n",
    "url = \"https://archive.ics.uci.edu/ml/machine-learning-databases/iris/iris.data\"\n",
    "\n",
    "# Load the dataset into a DataFrame\n",
    "df = pd.read_csv(url, header=None)\n",
    "\n",
    "# Assign appropriate column names to the DataFrame\n",
    "df.columns = ['Sepal Length', 'Sepal Width', 'Petal Length', 'Petal Width', 'Species']\n",
    "\n",
    "# Save the DataFrame to a CSV file\n",
    "df.to_csv('iris_dataset.csv', index=False)\n",
    "\n",
    "# Display the DataFrame to verify\n",
    "print(df.head())"
   ]
  }
 ],
 "metadata": {
  "kernelspec": {
   "display_name": "Python 3 (ipykernel)",
   "language": "python",
   "name": "python3"
  },
  "language_info": {
   "codemirror_mode": {
    "name": "ipython",
    "version": 3
   },
   "file_extension": ".py",
   "mimetype": "text/x-python",
   "name": "python",
   "nbconvert_exporter": "python",
   "pygments_lexer": "ipython3",
   "version": "3.12.7"
  }
 },
 "nbformat": 4,
 "nbformat_minor": 5
}
